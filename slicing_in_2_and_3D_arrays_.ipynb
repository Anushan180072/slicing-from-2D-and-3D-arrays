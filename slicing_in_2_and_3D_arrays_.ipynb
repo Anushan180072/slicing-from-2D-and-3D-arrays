{
  "nbformat": 4,
  "nbformat_minor": 0,
  "metadata": {
    "colab": {
      "provenance": []
    },
    "kernelspec": {
      "name": "python3",
      "display_name": "Python 3"
    },
    "language_info": {
      "name": "python"
    }
  },
  "cells": [
    {
      "cell_type": "code",
      "execution_count": 2,
      "metadata": {
        "id": "0b88_-UCw3Ve"
      },
      "outputs": [],
      "source": [
        "import numpy as np"
      ]
    },
    {
      "cell_type": "code",
      "source": [
        "a=np.zeros(10)\n",
        "a"
      ],
      "metadata": {
        "colab": {
          "base_uri": "https://localhost:8080/"
        },
        "id": "sRIIwQVbxFQb",
        "outputId": "2bbe4ef0-57d3-44bd-e170-6d8bae676b9b"
      },
      "execution_count": 3,
      "outputs": [
        {
          "output_type": "execute_result",
          "data": {
            "text/plain": [
              "array([0., 0., 0., 0., 0., 0., 0., 0., 0., 0.])"
            ]
          },
          "metadata": {},
          "execution_count": 3
        }
      ]
    },
    {
      "cell_type": "code",
      "source": [
        "print(type(a),\" and \",type(a[0]))"
      ],
      "metadata": {
        "id": "OgmjaiP_xZur",
        "colab": {
          "base_uri": "https://localhost:8080/"
        },
        "outputId": "a4b316c6-68fe-4a32-c6c7-ec70007982fe"
      },
      "execution_count": 4,
      "outputs": [
        {
          "output_type": "stream",
          "name": "stdout",
          "text": [
            "<class 'numpy.ndarray'>  and  <class 'numpy.float64'>\n"
          ]
        }
      ]
    },
    {
      "cell_type": "markdown",
      "source": [
        "**slicing from 2d array**"
      ],
      "metadata": {
        "id": "zsrFnGX1ecOJ"
      }
    },
    {
      "cell_type": "code",
      "source": [
        "b=np.random.randint(100,size=(5,5))\n",
        "b"
      ],
      "metadata": {
        "colab": {
          "base_uri": "https://localhost:8080/"
        },
        "id": "Mq7kgmd3eOGN",
        "outputId": "bb429557-407e-4fd3-a7ba-b64625f672ae"
      },
      "execution_count": 5,
      "outputs": [
        {
          "output_type": "execute_result",
          "data": {
            "text/plain": [
              "array([[86, 58, 77, 46, 59],\n",
              "       [16, 31, 13, 87, 51],\n",
              "       [46, 91, 24, 83, 79],\n",
              "       [88, 14, 45, 99, 13],\n",
              "       [70,  6,  2, 44, 36]])"
            ]
          },
          "metadata": {},
          "execution_count": 5
        }
      ]
    },
    {
      "cell_type": "code",
      "source": [
        "b[2:4]"
      ],
      "metadata": {
        "colab": {
          "base_uri": "https://localhost:8080/"
        },
        "id": "O135nNuteh7Z",
        "outputId": "5d1db6fd-8e50-46fb-a907-f4e024c650bf"
      },
      "execution_count": 8,
      "outputs": [
        {
          "output_type": "execute_result",
          "data": {
            "text/plain": [
              "array([[46, 91, 24, 83, 79],\n",
              "       [88, 14, 45, 99, 13]])"
            ]
          },
          "metadata": {},
          "execution_count": 8
        }
      ]
    },
    {
      "cell_type": "code",
      "source": [
        "b[0:4,1:3]"
      ],
      "metadata": {
        "colab": {
          "base_uri": "https://localhost:8080/"
        },
        "id": "1bkxedbSe81K",
        "outputId": "dcbb6e9f-edfb-4b95-8a17-8a92de8ee097"
      },
      "execution_count": 10,
      "outputs": [
        {
          "output_type": "execute_result",
          "data": {
            "text/plain": [
              "array([[58, 77],\n",
              "       [31, 13],\n",
              "       [91, 24],\n",
              "       [14, 45]])"
            ]
          },
          "metadata": {},
          "execution_count": 10
        }
      ]
    },
    {
      "cell_type": "code",
      "source": [
        "b=np.ones((2,3,3))\n",
        "b"
      ],
      "metadata": {
        "colab": {
          "base_uri": "https://localhost:8080/"
        },
        "id": "fHMUSag7Y4xn",
        "outputId": "2da13540-47d8-49df-f3bb-f4ee2d923571"
      },
      "execution_count": 11,
      "outputs": [
        {
          "output_type": "execute_result",
          "data": {
            "text/plain": [
              "array([[[1., 1., 1.],\n",
              "        [1., 1., 1.],\n",
              "        [1., 1., 1.]],\n",
              "\n",
              "       [[1., 1., 1.],\n",
              "        [1., 1., 1.],\n",
              "        [1., 1., 1.]]])"
            ]
          },
          "metadata": {},
          "execution_count": 11
        }
      ]
    },
    {
      "cell_type": "markdown",
      "source": [
        "**slicing from 3d array**"
      ],
      "metadata": {
        "id": "QuETyQwqd74e"
      }
    },
    {
      "cell_type": "code",
      "source": [
        "d=np.random.randint(100,size=(2,5,5))\n",
        "d"
      ],
      "metadata": {
        "colab": {
          "base_uri": "https://localhost:8080/"
        },
        "id": "X68GY1dDZ87d",
        "outputId": "887c297e-7b32-4928-eb83-7e218029a250"
      },
      "execution_count": 12,
      "outputs": [
        {
          "output_type": "execute_result",
          "data": {
            "text/plain": [
              "array([[[41, 75,  1, 82,  3],\n",
              "        [52, 95, 90, 58, 12],\n",
              "        [27, 47, 18, 10, 39],\n",
              "        [70, 64, 19, 81, 51],\n",
              "        [63, 64, 34, 94, 65]],\n",
              "\n",
              "       [[73, 57, 35, 80, 22],\n",
              "        [11,  5, 58, 51, 77],\n",
              "        [ 1, 62, 99, 61, 43],\n",
              "        [80, 26, 51, 37, 15],\n",
              "        [23, 78, 12, 51, 87]]])"
            ]
          },
          "metadata": {},
          "execution_count": 12
        }
      ]
    },
    {
      "cell_type": "code",
      "source": [
        "d[1:2,1:4,2:4]"
      ],
      "metadata": {
        "colab": {
          "base_uri": "https://localhost:8080/"
        },
        "id": "nof47IxTcFxQ",
        "outputId": "a3140b49-1f0e-449d-9e18-1ad47d844471"
      },
      "execution_count": 13,
      "outputs": [
        {
          "output_type": "execute_result",
          "data": {
            "text/plain": [
              "array([[[58, 51],\n",
              "        [99, 61],\n",
              "        [51, 37]]])"
            ]
          },
          "metadata": {},
          "execution_count": 13
        }
      ]
    },
    {
      "cell_type": "code",
      "source": [],
      "metadata": {
        "id": "MV8S2dyjcT86"
      },
      "execution_count": null,
      "outputs": []
    }
  ]
}